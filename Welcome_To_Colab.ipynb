{
  "cells": [
    {
      "cell_type": "markdown",
      "metadata": {
        "id": "view-in-github",
        "colab_type": "text"
      },
      "source": [
        "<a href=\"https://colab.research.google.com/github/Krishnatejakrish/Basketo/blob/main/Welcome_To_Colab.ipynb\" target=\"_parent\"><img src=\"https://colab.research.google.com/assets/colab-badge.svg\" alt=\"Open In Colab\"/></a>"
      ]
    },
    {
      "cell_type": "code",
      "source": [
        "num = 10\n",
        "add = lambda num:num*2\n",
        "print(add(num))\n"
      ],
      "metadata": {
        "id": "tlTSb9x2ZODI",
        "outputId": "c583206e-20b6-49ff-f680-5a4e2dc88a60",
        "colab": {
          "base_uri": "https://localhost:8080/"
        }
      },
      "execution_count": 3,
      "outputs": [
        {
          "output_type": "stream",
          "name": "stdout",
          "text": [
            "20\n"
          ]
        }
      ]
    },
    {
      "cell_type": "code",
      "source": [
        "# num = [1,2,3,4]\n",
        "# multi =\n",
        "list(map(lambda num:num*2,[1,2,3,4,5,6,7,8,9]))"
      ],
      "metadata": {
        "id": "Vf4i9ncgZYDp",
        "outputId": "c45be180-7526-452f-ac62-2bb021de9b5f",
        "colab": {
          "base_uri": "https://localhost:8080/"
        }
      },
      "execution_count": 12,
      "outputs": [
        {
          "output_type": "execute_result",
          "data": {
            "text/plain": [
              "[2, 4, 6, 8, 10, 12, 14, 16, 18]"
            ]
          },
          "metadata": {},
          "execution_count": 12
        }
      ]
    },
    {
      "cell_type": "code",
      "source": [
        "num = [1,2,3]\n",
        "num1 = [4,5,6]\n",
        "\n",
        "list(map(lambda num,num1 : num+num1,num ,num1))"
      ],
      "metadata": {
        "id": "yl8VorMKZ2vb",
        "outputId": "9525e5aa-cde1-4bc2-91cd-35d1c6cc23c8",
        "colab": {
          "base_uri": "https://localhost:8080/"
        }
      },
      "execution_count": 19,
      "outputs": [
        {
          "output_type": "execute_result",
          "data": {
            "text/plain": [
              "[5, 7, 9]"
            ]
          },
          "metadata": {},
          "execution_count": 19
        }
      ]
    },
    {
      "cell_type": "code",
      "source": [
        "number = ['1','2','3','4']\n",
        "list(map(int,number))"
      ],
      "metadata": {
        "id": "h622Z97CdOZT",
        "outputId": "1b165463-ad81-4824-85a6-71a95bc58fa4",
        "colab": {
          "base_uri": "https://localhost:8080/"
        }
      },
      "execution_count": 21,
      "outputs": [
        {
          "output_type": "execute_result",
          "data": {
            "text/plain": [
              "[1, 2, 3, 4]"
            ]
          },
          "metadata": {},
          "execution_count": 21
        }
      ]
    },
    {
      "cell_type": "code",
      "source": [
        "# number =\n",
        "list(map(int,['1','2','3','4']))"
      ],
      "metadata": {
        "id": "g8PQ04w5dT76",
        "outputId": "81f77f36-ffd3-4d86-c722-1af3313cda37",
        "colab": {
          "base_uri": "https://localhost:8080/"
        }
      },
      "execution_count": 23,
      "outputs": [
        {
          "output_type": "execute_result",
          "data": {
            "text/plain": [
              "[1, 2, 3, 4]"
            ]
          },
          "metadata": {},
          "execution_count": 23
        }
      ]
    },
    {
      "cell_type": "code",
      "source": [
        "str1 = ['krishna','teja','srikrishna','rupasri']\n",
        "list(map(str.upper,str1))"
      ],
      "metadata": {
        "id": "SQvlfUthdc2t",
        "outputId": "bb9e1c46-22b9-463f-9aa5-50b0d32bc937",
        "colab": {
          "base_uri": "https://localhost:8080/"
        }
      },
      "execution_count": 26,
      "outputs": [
        {
          "output_type": "execute_result",
          "data": {
            "text/plain": [
              "['KRISHNA', 'TEJA', 'SRIKRISHNA', 'RUPASRI']"
            ]
          },
          "metadata": {},
          "execution_count": 26
        }
      ]
    },
    {
      "cell_type": "code",
      "source": [
        "str1 = ['krishna','teja','srikrishna','rupasri']\n",
        "list(map(lambda str1:str1.upper(),str1))"
      ],
      "metadata": {
        "id": "sMPeEY2ifkF0",
        "outputId": "4a2ca1f5-97fe-476f-b31c-61e5b279ab9b",
        "colab": {
          "base_uri": "https://localhost:8080/"
        }
      },
      "execution_count": 28,
      "outputs": [
        {
          "output_type": "execute_result",
          "data": {
            "text/plain": [
              "['KRISHNA', 'TEJA', 'SRIKRISHNA', 'RUPASRI']"
            ]
          },
          "metadata": {},
          "execution_count": 28
        }
      ]
    },
    {
      "cell_type": "code",
      "source": [
        "diclist = [{\n",
        "    'name':'krishna',\n",
        "    'age':22\n",
        "},{\n",
        "    'name':'teja'\n",
        "}]\n",
        "list(map(lambda diclist:diclist['name'],diclist))"
      ],
      "metadata": {
        "id": "pg66QCXwf1n4",
        "outputId": "244074dd-cef4-4510-9734-57250cc081ca",
        "colab": {
          "base_uri": "https://localhost:8080/"
        }
      },
      "execution_count": 30,
      "outputs": [
        {
          "output_type": "execute_result",
          "data": {
            "text/plain": [
              "['krishna', 'teja']"
            ]
          },
          "metadata": {},
          "execution_count": 30
        }
      ]
    },
    {
      "cell_type": "code",
      "source": [
        "list(filter(lambda num:num%2==0,[1,2,3,4,5,6,7,8,9,10]))"
      ],
      "metadata": {
        "id": "cb6WZQtQosCo",
        "outputId": "4c11e6a7-f2ba-4060-976e-db2da2c3ddd0",
        "colab": {
          "base_uri": "https://localhost:8080/"
        }
      },
      "execution_count": 33,
      "outputs": [
        {
          "output_type": "execute_result",
          "data": {
            "text/plain": [
              "[2, 4, 6, 8, 10]"
            ]
          },
          "metadata": {},
          "execution_count": 33
        }
      ]
    },
    {
      "cell_type": "code",
      "source": [
        "import os\n",
        "os.getcwd()\n"
      ],
      "metadata": {
        "id": "tZNZiVpNzSSD",
        "outputId": "282a6e09-4c3f-4b21-84eb-679ce55976e4",
        "colab": {
          "base_uri": "https://localhost:8080/",
          "height": 36
        }
      },
      "execution_count": 35,
      "outputs": [
        {
          "output_type": "execute_result",
          "data": {
            "text/plain": [
              "'/content'"
            ],
            "application/vnd.google.colaboratory.intrinsic+json": {
              "type": "string"
            }
          },
          "metadata": {},
          "execution_count": 35
        }
      ]
    },
    {
      "cell_type": "code",
      "source": [
        "os.mkdir('krishna')"
      ],
      "metadata": {
        "id": "Ma6qQu1mIYV8"
      },
      "execution_count": 36,
      "outputs": []
    },
    {
      "cell_type": "code",
      "source": [
        "import shutil\n",
        "shutil.copyfile('krishna/ex.txt','krishna/srikrishna.txt')"
      ],
      "metadata": {
        "id": "b9Uaw85-Ibk_",
        "outputId": "df54a47e-d38d-46f4-9776-035ccab3ab01",
        "colab": {
          "base_uri": "https://localhost:8080/",
          "height": 36
        }
      },
      "execution_count": 41,
      "outputs": [
        {
          "output_type": "execute_result",
          "data": {
            "text/plain": [
              "'krishna/srikrishna.txt'"
            ],
            "application/vnd.google.colaboratory.intrinsic+json": {
              "type": "string"
            }
          },
          "metadata": {},
          "execution_count": 41
        }
      ]
    },
    {
      "cell_type": "code",
      "source": [
        "import json\n",
        "data = {\"name\": \"Krishna\", \"age\": 25, \"languages\": [\"Python\", \"JavaScript\"]}\n",
        "print(json.dumps(data))\n"
      ],
      "metadata": {
        "id": "lm3np17-I1Md",
        "outputId": "ca9c054c-2a45-4948-be9b-6b966bc35b9b",
        "colab": {
          "base_uri": "https://localhost:8080/"
        }
      },
      "execution_count": 43,
      "outputs": [
        {
          "output_type": "stream",
          "name": "stdout",
          "text": [
            "{\"name\": \"Krishna\", \"age\": 25, \"languages\": [\"Python\", \"JavaScript\"]}\n"
          ]
        }
      ]
    },
    {
      "cell_type": "code",
      "source": [
        "# from posix import write\n",
        "import csv\n",
        "with open('krishna/sri.csv', mode='w', newline='') as file:\n",
        "    writer = csv.writer(file)\n",
        "    writer.writerow(['krishna','teja','srikrishna'])\n",
        "    writer.writerow(['krishna','teja','srikrishna'])\n",
        "    writer.writerow(['krishna','teja','srikrishna'])\n",
        "    writer.writerow(['krishna','teja','srikrishna'])\n",
        "with open('krishna/sri.csv', mode='r', newline='') as file:\n",
        "    reader = csv.reader(file)\n",
        "    for row in reader:\n",
        "        print(row)"
      ],
      "metadata": {
        "id": "8poEb8_iMBoD",
        "outputId": "4672732d-d863-48b3-c04e-298ed2896964",
        "colab": {
          "base_uri": "https://localhost:8080/"
        }
      },
      "execution_count": 47,
      "outputs": [
        {
          "output_type": "stream",
          "name": "stdout",
          "text": [
            "['krishna', 'teja', 'srikrishna']\n",
            "['krishna', 'teja', 'srikrishna']\n",
            "['krishna', 'teja', 'srikrishna']\n",
            "['krishna', 'teja', 'srikrishna']\n"
          ]
        }
      ]
    },
    {
      "cell_type": "code",
      "source": [
        "with open('krishna/srikrishna.txt','r') as file:\n",
        "    # print(file.read())\n",
        "    for i in file:\n",
        "        print(i.strip())"
      ],
      "metadata": {
        "id": "NQiG8ePfSSas",
        "outputId": "8b57aa68-bebd-4bd4-8e81-b3ed91976dec",
        "colab": {
          "base_uri": "https://localhost:8080/"
        }
      },
      "execution_count": 58,
      "outputs": [
        {
          "output_type": "stream",
          "name": "stdout",
          "text": [
            "krishna teja, rupasri srikrishna\n"
          ]
        }
      ]
    },
    {
      "cell_type": "code",
      "source": [
        "with open('krishna/ex.txt','w') as file:\n",
        "  file.write('krishna teja, rupasri, srikrishna \\n')\n",
        "with open('krishna/ex.txt','r') as file:\n",
        "  print(file.read())"
      ],
      "metadata": {
        "id": "cRDd-exSXxtW",
        "outputId": "74f117af-e537-4b83-9e82-96dcf50983ab",
        "colab": {
          "base_uri": "https://localhost:8080/"
        }
      },
      "execution_count": 62,
      "outputs": [
        {
          "output_type": "stream",
          "name": "stdout",
          "text": [
            "krishna teja, rupasri, srikrishna \n",
            "\n"
          ]
        }
      ]
    },
    {
      "cell_type": "code",
      "source": [
        "with open('krishna/srikrishna.txt','a') as file:\n",
        "  file.write(' krishna teja, rupasri, srikrishna! \\n')\n",
        "with open('krishna/srikrishna.txt','r') as file:\n",
        "  print(file.read())"
      ],
      "metadata": {
        "id": "RRlqgywUcCGb",
        "outputId": "497a875e-7ca9-46bd-a67e-e1561c436d34",
        "colab": {
          "base_uri": "https://localhost:8080/"
        }
      },
      "execution_count": 64,
      "outputs": [
        {
          "output_type": "stream",
          "name": "stdout",
          "text": [
            "krishna teja, rupasri srikrishna\n",
            "hi krishna how are you\n",
            "i love rupasri kommineni\n",
            "i am gonna get job in  next 3 months\n",
            "iam gonna my love rupasri marry in future \n",
            " krishna teja, rupasri, srikrishna! \n",
            "\n"
          ]
        }
      ]
    },
    {
      "cell_type": "code",
      "source": [
        "with open('krishna/srikrishna.txt','a') as file:\n",
        "  file.write(' krishna teja, rupasri, srikrishna! \\n')\n",
        "with open('krishna/srikrishna.txt','r') as file:\n",
        "  print(file.read())"
      ],
      "metadata": {
        "id": "xs8FDH_ecIrw"
      },
      "execution_count": null,
      "outputs": []
    }
  ],
  "metadata": {
    "colab": {
      "name": "Welcome To Colab",
      "provenance": [],
      "include_colab_link": true
    },
    "kernelspec": {
      "display_name": "Python 3",
      "name": "python3"
    }
  },
  "nbformat": 4,
  "nbformat_minor": 0
}